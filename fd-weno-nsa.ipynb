{
 "cells": [
  {
   "cell_type": "markdown",
   "metadata": {},
   "source": [
    "# Nonlinear Spectral Analysis (NSA) of FD-WENO schemes"
   ]
  },
  {
   "cell_type": "code",
   "execution_count": 1,
   "metadata": {},
   "outputs": [],
   "source": [
    "# Import libraries\n",
    "import numpy as np\n",
    "import matplotlib.pyplot as plt"
   ]
  },
  {
   "cell_type": "markdown",
   "metadata": {},
   "source": [
    "Consider the one-dimensional hyperbolic conservation law for a scalar field \\\\( u(x,t), x\\in[0,L] \\\\),\n",
    "\\begin{align}\n",
    "    \\frac{\\partial u}{\\partial t}+\\frac{\\partial\\phi}{\\partial x}=0\\tag{1}\n",
    "\\end{align}"
   ]
  },
  {
   "cell_type": "code",
   "execution_count": 2,
   "metadata": {},
   "outputs": [],
   "source": [
    "# Domain length\n",
    "L = 2.0 * np.pi"
   ]
  },
  {
   "cell_type": "code",
   "execution_count": 3,
   "metadata": {},
   "outputs": [],
   "source": [
    "# Number of grid points\n",
    "N = 64"
   ]
  },
  {
   "cell_type": "code",
   "execution_count": 4,
   "metadata": {},
   "outputs": [],
   "source": [
    "# (Uniform) grid spacing\n",
    "h = L / (N-1)"
   ]
  },
  {
   "cell_type": "code",
   "execution_count": 5,
   "metadata": {},
   "outputs": [],
   "source": [
    "# Positions of grid points i\n",
    "#x = np.linspace(h/2.0, L-h/2.0, N)\n",
    "x = np.linspace(0, L, N)"
   ]
  },
  {
   "cell_type": "markdown",
   "metadata": {},
   "source": [
    "The impact of the nonlinearity on the modified wavenumber will be investigated by means of an artificial or synthetic field for \\\\( u(x) \\\\), containing a predefined spectrum of Fourier modes."
   ]
  },
  {
   "cell_type": "markdown",
   "metadata": {},
   "source": [
    "The one-dimensional synthetic field \\\\( u(x),0\\leq x\\leq 2\\pi \\\\) is constructed such that its energy spectrum \\\\( E_u(\\kappa) \\\\) follows a predefined inertial range scaling\n",
    "\\begin{align}\n",
    "    E_u(\\kappa)\n",
    "\\end{align}"
   ]
  },
  {
   "cell_type": "markdown",
   "metadata": {},
   "source": [
    "In the previous expressions, \\\\( \\kappa_{max}=\\frac{\\pi}{\\Delta} \\\\) denotes the maximum wavenumber of an equidistant computational grid with grid\n",
    "spacing \\\\( \\Delta \\\\)."
   ]
  },
  {
   "cell_type": "code",
   "execution_count": 6,
   "metadata": {},
   "outputs": [],
   "source": [
    "# Maximum wavenumber of the grid\n",
    "kMax = np.pi / h"
   ]
  },
  {
   "cell_type": "markdown",
   "metadata": {},
   "source": [
    "For the basic analysis, the cutoff wavenumber is chosen as the maximum wavenumber of the computational grid, i.e. \\\\( \\kappa_c=\\kappa_{max}=\\frac{\\pi}{\\Delta}\\\\)."
   ]
  },
  {
   "cell_type": "code",
   "execution_count": 7,
   "metadata": {},
   "outputs": [],
   "source": [
    "# Cutoff wavenumber\n",
    "kC = kMax"
   ]
  },
  {
   "cell_type": "code",
   "execution_count": 36,
   "metadata": {},
   "outputs": [
    {
     "name": "stdout",
     "output_type": "stream",
     "text": [
      "[ 1.85182583e+00 -1.59525142e+00  1.45071461e+00 -8.41042126e-01\n",
      "  6.92664393e-01  1.03749737e+00 -1.18766112e+00 -1.97449531e-01\n",
      " -1.33562775e-03  5.76770956e-01 -1.03334321e-01  2.24696850e-01\n",
      "  2.58836745e+00 -2.69378398e+00 -4.21768781e-01 -2.00217767e+00\n",
      " -6.06613951e-02  2.80633022e-01  1.66566408e-01 -1.54634550e+00\n",
      " -9.94715921e-01  9.17796239e-02 -3.03967960e+00 -2.73065517e-01\n",
      " -5.94065475e-01  1.61741103e+00  5.55223350e-01 -3.00171873e+00\n",
      " -2.92455091e+00  5.86971056e-01 -2.19544745e-02 -2.55684492e+00\n",
      "  9.17170313e-01 -1.66300449e+00 -1.22002601e+00 -3.12945390e+00\n",
      " -5.85653554e-01  2.44667913e-01  1.94106393e+00  1.20411708e+00\n",
      " -1.39876289e-01 -1.99053106e+00 -4.14844029e-01  1.02723989e+00\n",
      " -2.19328954e+00  6.43618346e-01 -7.20321154e-01  2.76373620e+00\n",
      " -1.78512629e+00 -1.65143167e+00  1.65221396e-02 -8.48191423e-01\n",
      " -2.81956381e-03 -2.93210611e+00 -1.23115353e+00 -1.37301410e+00\n",
      " -2.90123330e+00 -1.21348033e+00 -1.85432634e-01  1.26941021e-01\n",
      " -2.65450981e+00 -2.50396092e+00 -2.85780744e+00 -5.70208395e-01\n",
      " -5.70208395e-01 -2.85780744e+00 -2.50396092e+00 -2.65450981e+00\n",
      "  1.26941021e-01 -1.85432634e-01 -1.21348033e+00 -2.90123330e+00\n",
      " -1.37301410e+00 -1.23115353e+00 -2.93210611e+00 -2.81956381e-03\n",
      " -8.48191423e-01  1.65221396e-02 -1.65143167e+00 -1.78512629e+00\n",
      "  2.76373620e+00 -7.20321154e-01  6.43618346e-01 -2.19328954e+00\n",
      "  1.02723989e+00 -4.14844029e-01 -1.99053106e+00 -1.39876289e-01\n",
      "  1.20411708e+00  1.94106393e+00  2.44667913e-01 -5.85653554e-01\n",
      " -3.12945390e+00 -1.22002601e+00 -1.66300449e+00  9.17170313e-01\n",
      " -2.55684492e+00 -2.19544745e-02  5.86971056e-01 -2.92455091e+00\n",
      " -3.00171873e+00  5.55223350e-01  1.61741103e+00 -5.94065475e-01\n",
      " -2.73065517e-01 -3.03967960e+00  9.17796239e-02 -9.94715921e-01\n",
      " -1.54634550e+00  1.66566408e-01  2.80633022e-01 -6.06613951e-02\n",
      " -2.00217767e+00 -4.21768781e-01 -2.69378398e+00  2.58836745e+00\n",
      "  2.24696850e-01 -1.03334321e-01  5.76770956e-01 -1.33562775e-03\n",
      " -1.97449531e-01 -1.18766112e+00  1.03749737e+00  6.92664393e-01\n",
      " -8.41042126e-01  1.45071461e+00 -1.59525142e+00  1.85182583e+00]\n"
     ]
    }
   ],
   "source": [
    "# Phase of each mode, phase function\n",
    "phiU = np.zeros(2*N)\n",
    "phiU[:N] = np.random.uniform(-np.pi, np.pi, N)\n",
    "phiU[N:] = np.flip(phiU[:N])\n",
    "print(phiU)"
   ]
  },
  {
   "cell_type": "markdown",
   "metadata": {},
   "source": [
    "In the following, we consider the slope of the turbulent energy spectrum, i.e. \\\\( \\alpha=-5/3 \\\\)."
   ]
  },
  {
   "cell_type": "code",
   "execution_count": 9,
   "metadata": {},
   "outputs": [],
   "source": [
    "# Slope of the turbulent energy spectrum\n",
    "alpha = -5/3"
   ]
  },
  {
   "cell_type": "markdown",
   "metadata": {},
   "source": [
    "in which \\\\( U_0 \\\\) is a proportionality factor that can be chosen freely."
   ]
  },
  {
   "cell_type": "code",
   "execution_count": 10,
   "metadata": {},
   "outputs": [],
   "source": [
    "# Proportionality factor\n",
    "U0 = 1.0"
   ]
  },
  {
   "cell_type": "code",
   "execution_count": 35,
   "metadata": {},
   "outputs": [
    {
     "name": "stdout",
     "output_type": "stream",
     "text": [
      "0.07833407355304223\n",
      "5.0133807073947025\n",
      "[ 0.          0.07833407  0.15666815  0.23500222  0.31333629  0.39167037\n",
      "  0.47000444  0.54833851  0.62667259  0.70500666  0.78334074  0.86167481\n",
      "  0.94000888  1.01834296  1.09667703  1.1750111   1.25334518  1.33167925\n",
      "  1.41001332  1.4883474   1.56668147  1.64501554  1.72334962  1.80168369\n",
      "  1.88001777  1.95835184  2.03668591  2.11501999  2.19335406  2.27168813\n",
      "  2.35002221  2.42835628  2.50669035  2.58502443  2.6633585   2.74169257\n",
      "  2.82002665  2.89836072  2.9766948   3.05502887  3.13336294  3.21169702\n",
      "  3.29003109  3.36836516  3.44669924  3.52503331  3.60336738  3.68170146\n",
      "  3.76003553  3.8383696   3.91670368  3.99503775  4.07337182  4.1517059\n",
      "  4.23003997  4.30837405  4.38670812  4.46504219  4.54337627  4.62171034\n",
      "  4.70004441  4.77837849  4.85671256  4.93504663 -5.01338071 -4.93504663\n",
      " -4.85671256 -4.77837849 -4.70004441 -4.62171034 -4.54337627 -4.46504219\n",
      " -4.38670812 -4.30837405 -4.23003997 -4.1517059  -4.07337182 -3.99503775\n",
      " -3.91670368 -3.8383696  -3.76003553 -3.68170146 -3.60336738 -3.52503331\n",
      " -3.44669924 -3.36836516 -3.29003109 -3.21169702 -3.13336294 -3.05502887\n",
      " -2.9766948  -2.89836072 -2.82002665 -2.74169257 -2.6633585  -2.58502443\n",
      " -2.50669035 -2.42835628 -2.35002221 -2.27168813 -2.19335406 -2.11501999\n",
      " -2.03668591 -1.95835184 -1.88001777 -1.80168369 -1.72334962 -1.64501554\n",
      " -1.56668147 -1.4883474  -1.41001332 -1.33167925 -1.25334518 -1.1750111\n",
      " -1.09667703 -1.01834296 -0.94000888 -0.86167481 -0.78334074 -0.70500666\n",
      " -0.62667259 -0.54833851 -0.47000444 -0.39167037 -0.31333629 -0.23500222\n",
      " -0.15666815 -0.07833407]\n",
      "65\n"
     ]
    }
   ],
   "source": [
    "fMax = kMax / (2 * np.pi)\n",
    "df = fMax / N\n",
    "freqs = np.fft.fftfreq(2*N, h)\n",
    "print(df)\n",
    "print(fMax)\n",
    "print(freqs[0:])\n",
    "print(freqs[0:N+1].size)"
   ]
  },
  {
   "cell_type": "code",
   "execution_count": 12,
   "metadata": {},
   "outputs": [
    {
     "name": "stdout",
     "output_type": "stream",
     "text": [
      "[ 0.         0.4921875  0.984375   1.4765625  1.96875    2.4609375\n",
      "  2.953125   3.4453125  3.9375     4.4296875  4.921875   5.4140625\n",
      "  5.90625    6.3984375  6.890625   7.3828125  7.875      8.3671875\n",
      "  8.859375   9.3515625  9.84375   10.3359375 10.828125  11.3203125\n",
      " 11.8125    12.3046875 12.796875  13.2890625 13.78125   14.2734375\n",
      " 14.765625  15.2578125 15.75      16.2421875 16.734375  17.2265625\n",
      " 17.71875   18.2109375 18.703125  19.1953125 19.6875    20.1796875\n",
      " 20.671875  21.1640625 21.65625   22.1484375 22.640625  23.1328125\n",
      " 23.625     24.1171875 24.609375  25.1015625 25.59375   26.0859375\n",
      " 26.578125  27.0703125 27.5625    28.0546875 28.546875  29.0390625\n",
      " 29.53125   30.0234375 30.515625  31.0078125 31.5       31.0078125\n",
      " 30.515625  30.0234375 29.53125   29.0390625 28.546875  28.0546875\n",
      " 27.5625    27.0703125 26.578125  26.0859375 25.59375   25.1015625\n",
      " 24.609375  24.1171875 23.625     23.1328125 22.640625  22.1484375\n",
      " 21.65625   21.1640625 20.671875  20.1796875 19.6875    19.1953125\n",
      " 18.703125  18.2109375 17.71875   17.2265625 16.734375  16.2421875\n",
      " 15.75      15.2578125 14.765625  14.2734375 13.78125   13.2890625\n",
      " 12.796875  12.3046875 11.8125    11.3203125 10.828125  10.3359375\n",
      "  9.84375    9.3515625  8.859375   8.3671875  7.875      7.3828125\n",
      "  6.890625   6.3984375  5.90625    5.4140625  4.921875   4.4296875\n",
      "  3.9375     3.4453125  2.953125   2.4609375  1.96875    1.4765625\n",
      "  0.984375   0.4921875]\n"
     ]
    },
    {
     "data": {
      "text/plain": [
       "128"
      ]
     },
     "execution_count": 12,
     "metadata": {},
     "output_type": "execute_result"
    }
   ],
   "source": [
    "kappa = 2 * np.pi * np.abs(freqs)\n",
    "print(kappa)\n",
    "kappa.size"
   ]
  },
  {
   "cell_type": "code",
   "execution_count": 13,
   "metadata": {},
   "outputs": [],
   "source": [
    "# Synthetic field in Fourier space U(k)\n",
    "U = np.zeros(2*N, dtype=complex)\n",
    "U[1:] =  np.sqrt(U0) * (1+1j*np.tan(phiU[1:])) / np.sqrt(1+(np.tan(phiU[1:]))**2) * np.power(kappa[1:], alpha/2)"
   ]
  },
  {
   "cell_type": "code",
   "execution_count": 14,
   "metadata": {},
   "outputs": [],
   "source": [
    "# Synthetic field in physical space u(x)\n",
    "u = np.fft.ifft(U) # Take only the real part?"
   ]
  },
  {
   "cell_type": "code",
   "execution_count": 15,
   "metadata": {},
   "outputs": [],
   "source": [
    "# Overrite u(x) with simple cosine test function\n",
    "#u = 1.0 * np.cos(x)"
   ]
  },
  {
   "cell_type": "code",
   "execution_count": 16,
   "metadata": {},
   "outputs": [
    {
     "name": "stderr",
     "output_type": "stream",
     "text": [
      "/opt/anaconda3/lib/python3.7/site-packages/numpy/core/_asarray.py:85: ComplexWarning: Casting complex values to real discards the imaginary part\n",
      "  return array(a, dtype, copy=False, order=order)\n"
     ]
    },
    {
     "data": {
      "image/png": "[encoded data removed]",
      "text/plain": [
       "<Figure size 432x288 with 1 Axes>"
      ]
     },
     "metadata": {
      "needs_background": "light"
     },
     "output_type": "display_data"
    }
   ],
   "source": [
    "# Plot the scalar field u(x)\n",
    "plt.plot(x, u[:N], 'b')\n",
    "plt.xlabel('$x$')\n",
    "plt.ylabel('$Re[u(x)]$')\n",
    "plt.grid(True)\n",
    "plt.show()"
   ]
  },
  {
   "cell_type": "markdown",
   "metadata": {},
   "source": [
    "The flux \\\\( \\phi \\\\) is determined as \\\\( \\phi=vu \\\\), with the transporting velocity \\\\( v(x,t) \\\\). For the numerical experiments, we take \\\\( v\\\\) constant."
   ]
  },
  {
   "cell_type": "code",
   "execution_count": 40,
   "metadata": {},
   "outputs": [],
   "source": [
    "# Constant transporting velocity v(x,t) = v\n",
    "v = 1.0"
   ]
  },
  {
   "cell_type": "code",
   "execution_count": 41,
   "metadata": {},
   "outputs": [],
   "source": [
    "# Evaluate the fluxes at the grid points\n",
    "phi = v * u"
   ]
  },
  {
   "cell_type": "markdown",
   "metadata": {},
   "source": [
    "## Flux splitting"
   ]
  },
  {
   "cell_type": "markdown",
   "metadata": {},
   "source": [
    "The flux splitting can be accomplished in different ways. Often, the Lax–Friederichs flux splitting is used, i.e.\n",
    "\\begin{align}\n",
    "    \\phi^+(u)&=\\frac{1}{2}(\\phi(u)+\\theta u)\\tag{12}\\\\\n",
    "    \\phi^-(u)&=\\frac{1}{2}(\\phi(u)-\\theta u)\\tag{13}\n",
    "\\end{align}"
   ]
  },
  {
   "cell_type": "code",
   "execution_count": 58,
   "metadata": {},
   "outputs": [],
   "source": [
    "# Determine maximum wave speed\n",
    "theta = abs(v)"
   ]
  },
  {
   "cell_type": "code",
   "execution_count": 59,
   "metadata": {},
   "outputs": [],
   "source": [
    "# Split the fluxes at the grid points\n",
    "phiP = 0.5 * (phi + theta*u)\n",
    "phiM = 0.5 * (phi - theta*u)"
   ]
  },
  {
   "cell_type": "markdown",
   "metadata": {},
   "source": [
    "## WENO reconstruction"
   ]
  },
  {
   "cell_type": "markdown",
   "metadata": {},
   "source": [
    "The smoothness indicators are determined by the relations \\\\((19) - (24)\\\\)."
   ]
  },
  {
   "cell_type": "code",
   "execution_count": 60,
   "metadata": {},
   "outputs": [],
   "source": [
    "# Compute smoothness indicators\n",
    "b0p = 13/12 * (np.roll(phiP, 2) - 2*np.roll(phiP, 1) + np.roll(phiP, 0))**2 + 1/4 * (1*np.roll(phiP,2) - 4*np.roll(phiP, 1) + 3*np.roll(phiP, 0))**2\n",
    "b1p = 13/12 * (np.roll(phiP, 1) - 2*np.roll(phiP, 0) + np.roll(phiP,-1))**2 + 1/4 * (1*np.roll(phiP,1) - 1*np.roll(phiP,-1)                     )**2\n",
    "b2p = 13/12 * (np.roll(phiP, 0) - 2*np.roll(phiP,-1) + np.roll(phiP,-2))**2 + 1/4 * (3*np.roll(phiP,0) - 4*np.roll(phiP,-1) + 1*np.roll(phiP,-2))**2\n",
    "\n",
    "b0m = 13/12 * (np.roll(phiM,-1) - 2*np.roll(phiM,-2) + np.roll(phiM,-3))**2 + 1/4 * (3*np.roll(phiM,2) - 4*np.roll(phiM,-2) + 1*np.roll(phiM,-3))**2\n",
    "b1m = 13/12 * (np.roll(phiM, 0) - 2*np.roll(phiM,-1) + np.roll(phiM,-2))**2 + 1/4 * (1*np.roll(phiM,1) - 1*np.roll(phiM,-2)                     )**2\n",
    "b2m = 13/12 * (np.roll(phiM, 1) - 2*np.roll(phiM, 0) + np.roll(phiM,-1))**2 + 1/4 * (1*np.roll(phiM,0) - 4*np.roll(phiM, 0) + 3*np.roll(phiM,-1))**2"
   ]
  },
  {
   "cell_type": "markdown",
   "metadata": {},
   "source": [
    "For the 5th-order WENO scheme, \\\\( c_0=\\frac{1}{10},\\quad c_1=\\frac{6}{10},\\quad c_2=\\frac{3}{10} \\\\)."
   ]
  },
  {
   "cell_type": "code",
   "execution_count": 61,
   "metadata": {},
   "outputs": [],
   "source": [
    "# Optimal weights\n",
    "c0 = 1/10\n",
    "c1 = 6/10\n",
    "c2 = 3/10"
   ]
  },
  {
   "cell_type": "markdown",
   "metadata": {},
   "source": [
    "\\\\( \\epsilon \\\\) is a small positive number, recommended to be at least \\\\( 10^{-15} \\\\) and necessary to avoid singularities in the method."
   ]
  },
  {
   "cell_type": "code",
   "execution_count": 62,
   "metadata": {},
   "outputs": [],
   "source": [
    "# Small positive number\n",
    "eps = 10e-16"
   ]
  },
  {
   "cell_type": "markdown",
   "metadata": {},
   "source": [
    "In order to achieve a convex combination of Essentially Non-Oscillatory (ENO) stencils, the normalized weighting coefficients \\\\( w_k^\\pm \\\\) are determined by\n",
    "\\begin{align}\n",
    "    w_k^\\pm=\\frac{\\alpha_k^\\pm}{\\alpha_0^\\pm+\\alpha_1^\\pm+\\alpha_2^\\pm},\\quad\\alpha_k^\\pm=\\frac{c_k}{\\epsilon+\\beta_k^\\pm},\\quad k=0,1,2,\\tag{18}\n",
    "\\end{align}\n",
    "in which the \\\\( \\beta_k^\\pm \\\\)represent local indicators of the smoothness of the flux."
   ]
  },
  {
   "cell_type": "code",
   "execution_count": 63,
   "metadata": {},
   "outputs": [],
   "source": [
    "# Compute nonlinear weights\n",
    "a0p = c0 / (eps + b0p)\n",
    "a1p = c1 / (eps + b1p)\n",
    "a2p = c2 / (eps + b2p)\n",
    "\n",
    "a0m = c0 / (eps + b0m)\n",
    "a1m = c1 / (eps + b1m)\n",
    "a2m = c2 / (eps + b2m)"
   ]
  },
  {
   "cell_type": "code",
   "execution_count": 64,
   "metadata": {},
   "outputs": [],
   "source": [
    "# Normalize weights\n",
    "w0p = a0p / (a0p + a1p + a2p)\n",
    "w1p = a1p / (a0p + a1p + a2p)\n",
    "w2p = a2p / (a0p + a1p + a2p)\n",
    "\n",
    "w0m = a0m / (a0m + a1m + a2m)\n",
    "w1m = a1m / (a0m + a1m + a2m)\n",
    "w2m = a2m / (a0m + a1m + a2m)"
   ]
  },
  {
   "cell_type": "markdown",
   "metadata": {},
   "source": [
    "The positive and negative numerical fluxes are obtained as a weighting between 3 basic flux definitions, giving \\\\( (14)-(17) \\\\)."
   ]
  },
  {
   "cell_type": "code",
   "execution_count": 65,
   "metadata": {},
   "outputs": [],
   "source": [
    "# Compute positive and negative numerical fluxes at the intermediate positions right of the grid point i\n",
    "phiRp = w0p * (( 2*np.roll(phiP, 2) - 7*np.roll(phiP, 1) + 11*np.roll(phiP, 0)) / 6) + w1p * ((-1*np.roll(phiP, 1) + 5*np.roll(phiP, 0) + 2*np.roll(phiP,-1)) / 6) + w2p * (( 2*np.roll(phiP, 0) + 5*np.roll(phiP,-1) - 1*np.roll(phiP,-2)) / 6)\n",
    "phiRm = w0m * ((11*np.roll(phiM,-1) - 7*np.roll(phiM,-2) +  2*np.roll(phiM,-3)) / 6) + w1m * (( 2*np.roll(phiM, 0) + 5*np.roll(phiM,-1) - 1*np.roll(phiM,-2)) / 6) + w2m * ((-1*np.roll(phiM, 1) + 5*np.roll(phiM, 0) + 2*np.roll(phiM,-1)) / 6)"
   ]
  },
  {
   "cell_type": "code",
   "execution_count": 66,
   "metadata": {},
   "outputs": [],
   "source": [
    "# Compute total numerical fluxes at the intermediate positions right of the grid point i\n",
    "phiR = phiRp + phiRm"
   ]
  },
  {
   "cell_type": "code",
   "execution_count": 67,
   "metadata": {},
   "outputs": [],
   "source": [
    "# Overrite results with simple backward differencing\n",
    "#phiR = phi"
   ]
  },
  {
   "cell_type": "code",
   "execution_count": 68,
   "metadata": {},
   "outputs": [],
   "source": [
    "# Compute total numerical fluxes at the intermediate positions left of the grid point i\n",
    "phiL = np.roll(phiR, 1)"
   ]
  },
  {
   "cell_type": "markdown",
   "metadata": {},
   "source": [
    "## Differencing"
   ]
  },
  {
   "cell_type": "markdown",
   "metadata": {},
   "source": [
    "In general, the discretization of the convective term in a node \\\\( i \\\\) of the computational grid with uniform grid spacing \\\\( \\Delta x \\\\) can be expressed as the differential balance of fluxes at the intermediate positions \\\\( i\\pm\\frac{1}{2} \\\\). The 5th-order Weighted Essentially Non-Oscillatory (WENO) scheme for the convective term is constructed by first splitting the flux \\\\( \\phi \\\\) in expression \\\\( (2) \\\\) into a positive and negative contribution, \\\\( \\phi^+(u) \\\\) and \\\\( \\phi^-(u) \\\\), such that\n",
    "\\begin{align}\n",
    "        \\left.\\frac{\\partial\\phi}{\\partial x}\\right|_i=\\frac{\\phi_{i+\\frac{1}{2}}-\\phi_{i-\\frac{1}{2}}}{\\Delta x}=\\frac{(\\phi_{i+\\frac{1}{2}}^{+}+\\phi_{i+\\frac{1}{2}}^{-})-(\\phi_{i-\\frac{1}{2}}^{+}+\\phi_{i-\\frac{1}{2}}^{-})}{\\Delta x}\\tag{2,11}\n",
    "\\end{align}"
   ]
  },
  {
   "cell_type": "code",
   "execution_count": 69,
   "metadata": {},
   "outputs": [],
   "source": [
    "# Compute the discretization of the convective term\n",
    "DphiDx = (phiR - phiL) / h"
   ]
  },
  {
   "cell_type": "code",
   "execution_count": 70,
   "metadata": {},
   "outputs": [
    {
     "data": {
      "image/png": "[encoded data removed]",
      "text/plain": [
       "<Figure size 432x288 with 1 Axes>"
      ]
     },
     "metadata": {
      "needs_background": "light"
     },
     "output_type": "display_data"
    }
   ],
   "source": [
    "# Plot the result\n",
    "plt.plot(x, DphiDx[:N], 'b')\n",
    "plt.xlabel('$x$')\n",
    "plt.ylabel('$d\\phi$')\n",
    "plt.grid(True)\n",
    "plt.show()"
   ]
  },
  {
   "cell_type": "markdown",
   "metadata": {},
   "source": [
    "The modified wavenumber \\\\( \\kappa^\\prime \\\\) of any linear or nonlinear discretization \\\\( \\frac{\\partial u}{\\partial x} \\\\) of the first derivative is determined as\n",
    "\\begin{align}\n",
    "    \\kappa^\\prime(\\kappa)=\\frac{1}{i\\hat{u}(\\kappa)}\\mathcal{F}\\left\\{\\frac{\\partial u}{\\partial x}\\right\\},\\quad\\forall\\kappa\\leq\\kappa_c\\tag{31}\n",
    "\\end{align}"
   ]
  },
  {
   "cell_type": "code",
   "execution_count": 71,
   "metadata": {},
   "outputs": [],
   "source": [
    "# Modified wavenumber\n",
    "kD = np.zeros((2,2*N), dtype=complex)\n",
    "kD[1,1:] = 1 / (1j * U[1:]) * np.fft.fft(DphiDx)[1:]"
   ]
  },
  {
   "cell_type": "code",
   "execution_count": 72,
   "metadata": {},
   "outputs": [
    {
     "data": {
      "image/png": "[encoded data removed]",
      "text/plain": [
       "<Figure size 432x288 with 1 Axes>"
      ]
     },
     "metadata": {
      "needs_background": "light"
     },
     "output_type": "display_data"
    }
   ],
   "source": [
    "# Plot the real part of the modified wavenumber\n",
    "plt.plot(kappa[:N]/kMax, np.real(kD[0,:N])/kMax)\n",
    "plt.plot(kappa[:N]/kMax, np.real(kD[1,:N])/kMax)\n",
    "plt.plot(kappa[:N]/kMax, kappa[:N]/kMax)\n",
    "plt.xlabel('$\\kappa/\\kappa_{max}$')\n",
    "plt.ylabel('$Re(\\kappa^\\prime)/\\kappa_{max}$')\n",
    "plt.grid(True)\n",
    "plt.legend(['WENO-JS3-LF','Backward'])\n",
    "plt.show()"
   ]
  },
  {
   "cell_type": "code",
   "execution_count": 73,
   "metadata": {},
   "outputs": [
    {
     "data": {
      "image/png": "[encoded data removed]",
      "text/plain": [
       "<Figure size 432x288 with 1 Axes>"
      ]
     },
     "metadata": {
      "needs_background": "light"
     },
     "output_type": "display_data"
    }
   ],
   "source": [
    "# Plot the imaginary part of the modified wavenumber\n",
    "plt.plot(kappa[:N]/kMax, np.imag(kD[0,:N])/kMax)\n",
    "plt.plot(kappa[:N]/kMax, np.imag(kD[1,:N])/kMax)\n",
    "plt.plot(kappa[:N]/kMax, np.zeros(N))\n",
    "plt.xlabel('$\\kappa/\\kappa_{max}$')\n",
    "plt.ylabel('$Im(\\kappa^\\prime)/\\kappa_{max}$')\n",
    "plt.grid(True)\n",
    "plt.show()"
   ]
  },
  {
   "cell_type": "code",
   "execution_count": null,
   "metadata": {},
   "outputs": [],
   "source": []
  }
 ],
 "metadata": {
  "kernelspec": {
   "display_name": "Python 3",
   "language": "python",
   "name": "python3"
  },
  "language_info": {
   "codemirror_mode": {
    "name": "ipython",
    "version": 3
   },
   "file_extension": ".py",
   "mimetype": "text/x-python",
   "name": "python",
   "nbconvert_exporter": "python",
   "pygments_lexer": "ipython3",
   "version": "3.7.4"
  }
 },
 "nbformat": 4,
 "nbformat_minor": 4
}
